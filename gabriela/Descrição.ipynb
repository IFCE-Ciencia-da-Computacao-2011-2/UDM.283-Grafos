{
 "cells": [
  {
   "cell_type": "markdown",
   "metadata": {},
   "source": [
    "# Trabalho\n",
    "\n",
    "Dupla:\n",
    "\n",
    "* Leonardo da Silva Costa\n",
    "* Paulo Mateus Moura da Silva\n",
    "\n",
    "Forneça um algoritmo que verique se um grafo não direionado é ou não euleriano. Caso seja, o algoritmo deve fornecer um tour euleriano. A entrada é um arquivo de texto que ontém uma aresta por linha. Cada vértice é representado por uma string. Um exemplo de contéudo de um arquivo de entrada válido é:\n",
    "\n",
    "```\n",
    "vermelho azul\n",
    "vermelho verde\n",
    "azul verde\n",
    "azul amarela\n",
    "amarela vermelho\n",
    "```\n",
    "\n",
    "O trabalho deverá ser entregue até as 23:59:59 horas do dia 04/10 e deverá ser escrito em uma das seguintes linguagens: `Java`, `Python` ou `C` com códigos devidamente comentados."
   ]
  },
  {
   "cell_type": "code",
   "execution_count": 1,
   "metadata": {},
   "outputs": [
    {
     "data": {
      "text/html": [
       "<iframe src=938630-grafo_trabalho.pdf width=980 height=300></iframe>"
      ],
      "text/latex": [
       "\\includegraphics[width=1.0\\textwidth]{938630-grafo_trabalho.pdf}"
      ],
      "text/plain": [
       "<__main__.PDF at 0x7f25b2f85160>"
      ]
     },
     "execution_count": 1,
     "metadata": {},
     "output_type": "execute_result"
    }
   ],
   "source": [
    "class PDF(object):\n",
    "    def __init__(self, pdf, size=(200,200)):\n",
    "        self.pdf = pdf\n",
    "        self.size = size\n",
    "\n",
    "    def _repr_html_(self):\n",
    "        return '<iframe src={0} width={1[0]} height={1[1]}></iframe>'.format(self.pdf, self.size)\n",
    "\n",
    "    def _repr_latex_(self):\n",
    "        return r'\\includegraphics[width=1.0\\textwidth]{{{0}}}'.format(self.pdf)\n",
    "\n",
    "PDF('938630-grafo_trabalho.pdf', (980, 300))"
   ]
  },
  {
   "cell_type": "markdown",
   "metadata": {},
   "source": [
    "## Descrição dos códigos\n",
    "\n",
    "* `programa.py`: Arquivo responsável por executar o programa. Nele contém funções relativas à verificação se um grafo é euleriano. Veja como executar na seção a seguir;\n",
    "* `grafo.py`: Classe `Grafo`;\n",
    "* `grafo_teste.py`: Alguns métodos de teste;\n",
    "* `ler_entrada.py`: Métodos de leitura de dados;\n",
    "  * `ler_grafo_input()`: Gera um grafo a partir de um arquivo passado como stdin (veja seção `como executar`);\n",
    "  * `ler_grafo_arquivo(path)`: Gera um grafo a partir de um arquivo cujo caminho é `path`;\n",
    "* `utils.py`: Possui:\n",
    "  * `vertices_conexos_a_partir_de(vertice, grafo)`: Um dfs que retorna os vértices alcançáveis a partir de um vértice passado como parâmetro.\n",
    "* `__init__.py`: Necessário para a estruturação de pacotes do python. Com isto é possível importar outros arquivos do mesmo pacote"
   ]
  },
  {
   "cell_type": "markdown",
   "metadata": {},
   "source": [
    "## Como executar\n",
    "\n",
    "Em sistemas linux:\n",
    "```bash\n",
    "cat arquivo | python programa.py \n",
    "```"
   ]
  },
  {
   "cell_type": "code",
   "execution_count": 2,
   "metadata": {},
   "outputs": [
    {
     "name": "stdout",
     "output_type": "stream",
     "text": [
      "C -> B -> E -> A -> B -> D -> E -> F -> A -> D -> C\r\n"
     ]
    }
   ],
   "source": [
    "!cat exemplos/jurkiewicz.txt | python programa.py"
   ]
  },
  {
   "cell_type": "markdown",
   "metadata": {},
   "source": [
    "## Por onde devo começar a ver o código?\n",
    "\n",
    "Procure em `programa.py`\n",
    "\n",
    "```python\n",
    "if __name__ == '__main__':\n",
    "```"
   ]
  },
  {
   "cell_type": "markdown",
   "metadata": {},
   "source": [
    "## Exemplo de código"
   ]
  },
  {
   "cell_type": "code",
   "execution_count": 3,
   "metadata": {},
   "outputs": [],
   "source": [
    "from grafo import Grafo\n",
    "from programa import *\n",
    "\n",
    "grafo = Grafo()\n",
    "\n",
    "grafo.adicionar_aresta('a', 'b')\n",
    "grafo.adicionar_aresta('a', 'd')\n",
    "grafo.adicionar_aresta('b', 'c')\n",
    "grafo.adicionar_aresta('b', 'e')\n",
    "grafo.adicionar_aresta('b', 'f')\n",
    "\n",
    "grafo.adicionar_aresta('c', 'd')\n",
    "grafo.adicionar_aresta('c', 'e')\n",
    "grafo.adicionar_aresta('c', 'f')\n",
    "\n",
    "grafo.adicionar_aresta('d', 'e')\n",
    "grafo.adicionar_aresta('d', 'f')\n",
    "\n",
    "grafo.adicionar_aresta('e', 'f')"
   ]
  },
  {
   "cell_type": "markdown",
   "metadata": {},
   "source": [
    "Somente uma função para plotar o grafo bonitinho"
   ]
  },
  {
   "cell_type": "code",
   "execution_count": 4,
   "metadata": {},
   "outputs": [
    {
     "data": {
      "image/png": "[encoded data removed]",
      "text/plain": [
       "<matplotlib.figure.Figure at 0x7f25b2f85a20>"
      ]
     },
     "metadata": {},
     "output_type": "display_data"
    }
   ],
   "source": [
    "%matplotlib inline\n",
    "import networkx as nx\n",
    "\n",
    "def show_grafo(grafo):\n",
    "    G = nx.Graph()\n",
    "    \n",
    "    for vertice in grafo:\n",
    "        for destino in grafo[vertice]:\n",
    "            G.add_edge(vertice, destino)\n",
    "    \n",
    "    nx.draw(G, with_labels=True)\n",
    "\n",
    "show_grafo(grafo)"
   ]
  },
  {
   "cell_type": "code",
   "execution_count": 5,
   "metadata": {},
   "outputs": [
    {
     "name": "stdout",
     "output_type": "stream",
     "text": [
      "b -> e -> c -> b -> a -> d -> e -> f -> c -> d -> f -> b\n"
     ]
    }
   ],
   "source": [
    "if not is_euleriano(grafo):\n",
    "    print(\"Grafo não é euleriano\")\n",
    "\n",
    "else:\n",
    "    caminho = buscar_tour_euleriana(grafo)\n",
    "    print(formatar_caminho(caminho))"
   ]
  }
 ],
 "metadata": {
  "anaconda-cloud": {},
  "kernelspec": {
   "display_name": "Python [conda root]",
   "language": "python",
   "name": "conda-root-py"
  },
  "language_info": {
   "codemirror_mode": {
    "name": "ipython",
    "version": 3
   },
   "file_extension": ".py",
   "mimetype": "text/x-python",
   "name": "python",
   "nbconvert_exporter": "python",
   "pygments_lexer": "ipython3",
   "version": "3.5.2"
  }
 },
 "nbformat": 4,
 "nbformat_minor": 2
}
